{
  "cells": [
    {
      "cell_type": "markdown",
      "metadata": {
        "id": "view-in-github",
        "colab_type": "text"
      },
      "source": [
        "<a href=\"https://colab.research.google.com/github/Alireza-Mohammadzade/Kamyar-Pub/blob/main/00_Pytorch_Fundamental_YT.ipynb\" target=\"_parent\"><img src=\"https://colab.research.google.com/assets/colab-badge.svg\" alt=\"Open In Colab\"/></a>"
      ]
    },
    {
      "cell_type": "code",
      "execution_count": null,
      "metadata": {
        "colab": {
          "base_uri": "https://localhost:8080/"
        },
        "id": "_qM53Dxyxuwh",
        "outputId": "e47821dc-614c-43da-99e4-2a39b0828abe"
      },
      "outputs": [
        {
          "name": "stdout",
          "output_type": "stream",
          "text": [
            "Hello im exicted to learn PyTorch!\n"
          ]
        }
      ],
      "source": [
        "print ('Hello im exicted to learn PyTorch!')"
      ]
    },
    {
      "cell_type": "code",
      "execution_count": null,
      "metadata": {
        "colab": {
          "base_uri": "https://localhost:8080/"
        },
        "id": "b6XkvP5byZVq",
        "outputId": "3bd2d3ea-4913-46d4-be89-93d553760d68"
      },
      "outputs": [
        {
          "name": "stdout",
          "output_type": "stream",
          "text": [
            "Tue Oct 22 19:53:06 2024       \n",
            "+---------------------------------------------------------------------------------------+\n",
            "| NVIDIA-SMI 535.104.05             Driver Version: 535.104.05   CUDA Version: 12.2     |\n",
            "|-----------------------------------------+----------------------+----------------------+\n",
            "| GPU  Name                 Persistence-M | Bus-Id        Disp.A | Volatile Uncorr. ECC |\n",
            "| Fan  Temp   Perf          Pwr:Usage/Cap |         Memory-Usage | GPU-Util  Compute M. |\n",
            "|                                         |                      |               MIG M. |\n",
            "|=========================================+======================+======================|\n",
            "|   0  Tesla T4                       Off | 00000000:00:04.0 Off |                    0 |\n",
            "| N/A   52C    P8               9W /  70W |      0MiB / 15360MiB |      0%      Default |\n",
            "|                                         |                      |                  N/A |\n",
            "+-----------------------------------------+----------------------+----------------------+\n",
            "                                                                                         \n",
            "+---------------------------------------------------------------------------------------+\n",
            "| Processes:                                                                            |\n",
            "|  GPU   GI   CI        PID   Type   Process name                            GPU Memory |\n",
            "|        ID   ID                                                             Usage      |\n",
            "|=======================================================================================|\n",
            "|  No running processes found                                                           |\n",
            "+---------------------------------------------------------------------------------------+\n"
          ]
        }
      ],
      "source": [
        "!nvidia-smi"
      ]
    },
    {
      "cell_type": "code",
      "execution_count": null,
      "metadata": {
        "colab": {
          "base_uri": "https://localhost:8080/"
        },
        "id": "ZKvhFtuZycA-",
        "outputId": "be14893a-3c63-4c3f-d1b3-e20ac9f1e6c7"
      },
      "outputs": [
        {
          "name": "stdout",
          "output_type": "stream",
          "text": [
            "2.5.0+cpu\n"
          ]
        }
      ],
      "source": [
        "import torch\n",
        "import pandas as pd\n",
        "import numpy as np\n",
        "import matplotlib.pyplot as plt\n",
        "print(torch.__version__)"
      ]
    },
    {
      "cell_type": "code",
      "execution_count": null,
      "metadata": {
        "colab": {
          "base_uri": "https://localhost:8080/"
        },
        "id": "pEFMANPpznbZ",
        "outputId": "3c3f1d0e-ccd6-418a-e201-2a00245d5174"
      },
      "outputs": [
        {
          "name": "stdout",
          "output_type": "stream",
          "text": [
            "tensor(7)\n"
          ]
        }
      ],
      "source": [
        "scalar = torch.tensor(7)\n",
        "print(scalar)"
      ]
    },
    {
      "cell_type": "code",
      "execution_count": null,
      "metadata": {
        "colab": {
          "base_uri": "https://localhost:8080/"
        },
        "id": "5haOBdZK1LK9",
        "outputId": "3ab524d3-9581-42ec-e1f9-10708642443d"
      },
      "outputs": [
        {
          "name": "stdout",
          "output_type": "stream",
          "text": [
            "0\n"
          ]
        }
      ],
      "source": [
        "print (scalar.ndim)"
      ]
    },
    {
      "cell_type": "code",
      "execution_count": null,
      "metadata": {
        "colab": {
          "base_uri": "https://localhost:8080/"
        },
        "id": "wVVJMDis2NxB",
        "outputId": "bfe0d64e-7f3f-4a7d-e577-57d4eb141424"
      },
      "outputs": [
        {
          "data": {
            "text/plain": [
              "7"
            ]
          },
          "execution_count": 6,
          "metadata": {},
          "output_type": "execute_result"
        }
      ],
      "source": [
        "scalar.item()"
      ]
    },
    {
      "cell_type": "code",
      "execution_count": null,
      "metadata": {
        "colab": {
          "base_uri": "https://localhost:8080/"
        },
        "id": "8SMECOME2x8Y",
        "outputId": "6b0aafe9-b1ca-43a5-a63e-55d482bc94b7"
      },
      "outputs": [
        {
          "data": {
            "text/plain": [
              "torch.Size([3])"
            ]
          },
          "execution_count": 13,
          "metadata": {},
          "output_type": "execute_result"
        }
      ],
      "source": [
        "vector = torch.tensor([7,7 , 8])\n",
        "#vector\n",
        "#vector.ndim\n",
        "#vector.shape"
      ]
    },
    {
      "cell_type": "code",
      "execution_count": null,
      "metadata": {
        "colab": {
          "base_uri": "https://localhost:8080/"
        },
        "id": "L6SIVQCH3-Az",
        "outputId": "5632f949-84f0-4f58-da6c-76ac19ff521a"
      },
      "outputs": [
        {
          "data": {
            "text/plain": [
              "tensor(2)"
            ]
          },
          "execution_count": 18,
          "metadata": {},
          "output_type": "execute_result"
        }
      ],
      "source": [
        "MATRIX = torch.tensor([[1,2,3],[4,5,6]])\n",
        "#MATRIX.ndim\n",
        "#MATRIX.shape\n",
        "MATRIX[0][1]"
      ]
    },
    {
      "cell_type": "code",
      "execution_count": null,
      "metadata": {
        "colab": {
          "base_uri": "https://localhost:8080/"
        },
        "id": "3SyQC9H34Zav",
        "outputId": "dd2ca675-a33c-4258-a8d2-c05467cc42e1"
      },
      "outputs": [
        {
          "data": {
            "text/plain": [
              "torch.Size([2, 3, 3])"
            ]
          },
          "execution_count": 3,
          "metadata": {},
          "output_type": "execute_result"
        }
      ],
      "source": [
        "TENSOR = torch.tensor([[[1,2,3] ,\n",
        "                        [4,5,6] ,\n",
        "                        [7,8,9]  ], [[2,2,3] ,\n",
        "                         [4,5,6] ,\n",
        "                         [7,8,9]   ]])\n",
        "TENSOR\n",
        "TENSOR.ndim\n",
        "TENSOR.shape\n",
        "#TENSOR[1]"
      ]
    },
    {
      "cell_type": "code",
      "execution_count": null,
      "metadata": {
        "colab": {
          "base_uri": "https://localhost:8080/"
        },
        "id": "v0YlXMOE51IV",
        "outputId": "99bd896b-1b67-42da-a56d-41724f87c049"
      },
      "outputs": [
        {
          "data": {
            "text/plain": [
              "torch.Size([2, 3, 4])"
            ]
          },
          "execution_count": 7,
          "metadata": {},
          "output_type": "execute_result"
        }
      ],
      "source": [
        "random_tensor = torch.rand(2,3,4)\n",
        "random_tensor.shape"
      ]
    },
    {
      "cell_type": "code",
      "execution_count": null,
      "metadata": {
        "colab": {
          "base_uri": "https://localhost:8080/"
        },
        "id": "1YGyl5Rhpe3D",
        "outputId": "68bc476a-b30c-4059-e06d-92d9eaa479e3"
      },
      "outputs": [
        {
          "data": {
            "text/plain": [
              "tensor([[0.5850],\n",
              "        [0.7561],\n",
              "        [0.4067]])"
            ]
          },
          "execution_count": 26,
          "metadata": {},
          "output_type": "execute_result"
        }
      ],
      "source": [
        "random_tensor_2 = torch.rand(size=(3,1))\n",
        "random_tensor_2.shape\n",
        "random_tensor_2"
      ]
    },
    {
      "cell_type": "code",
      "execution_count": null,
      "metadata": {
        "colab": {
          "base_uri": "https://localhost:8080/"
        },
        "id": "cvN0vFbSq1KZ",
        "outputId": "7a8823f1-c710-46fe-844e-124508d9d3b2"
      },
      "outputs": [
        {
          "data": {
            "text/plain": [
              "tensor([[0.5850, 0.5850, 0.5850],\n",
              "        [0.7561, 0.7561, 0.7561],\n",
              "        [0.4067, 0.4067, 0.4067]])"
            ]
          },
          "execution_count": 32,
          "metadata": {},
          "output_type": "execute_result"
        }
      ],
      "source": [
        "zeros = torch.zeros(3,3)\n",
        "ones = torch.ones(1,3)\n",
        "ones\n",
        "random_tensor_2*ones"
      ]
    },
    {
      "cell_type": "code",
      "execution_count": null,
      "metadata": {
        "colab": {
          "base_uri": "https://localhost:8080/"
        },
        "id": "oQLQydOhsBVl",
        "outputId": "0178cc6f-5981-4516-a4a2-e269e8d0a599"
      },
      "outputs": [
        {
          "data": {
            "text/plain": [
              "torch.float32"
            ]
          },
          "execution_count": 23,
          "metadata": {},
          "output_type": "execute_result"
        }
      ],
      "source": [
        "ones.dtype #default type float32"
      ]
    },
    {
      "cell_type": "code",
      "execution_count": null,
      "metadata": {
        "id": "FpOP07Xbs_RO"
      },
      "outputs": [],
      "source": [
        "a =torch.arange(start = 0, end = 1000 , step = 77 )\n",
        "a"
      ]
    },
    {
      "cell_type": "code",
      "execution_count": null,
      "metadata": {
        "colab": {
          "base_uri": "https://localhost:8080/"
        },
        "id": "bwAWeywot-ZR",
        "outputId": "c11db902-1ba7-45fa-d14d-51b0fb927e2c"
      },
      "outputs": [
        {
          "data": {
            "text/plain": [
              "tensor([0, 0, 0, 0, 0, 0, 0, 0, 0, 0, 0, 0, 0])"
            ]
          },
          "execution_count": 43,
          "metadata": {},
          "output_type": "execute_result"
        }
      ],
      "source": [
        "b = torch.zeros_like(input=a)\n",
        "b"
      ]
    },
    {
      "cell_type": "code",
      "execution_count": null,
      "metadata": {
        "colab": {
          "base_uri": "https://localhost:8080/"
        },
        "id": "55K9jurfvIqR",
        "outputId": "e12db354-a706-43d9-ea2d-f07ba1a3c26f"
      },
      "outputs": [
        {
          "data": {
            "text/plain": [
              "device(type='cpu')"
            ]
          },
          "execution_count": 2,
          "metadata": {},
          "output_type": "execute_result"
        }
      ],
      "source": [
        "c = torch.rand(size=(3,3) , dtype = torch.half , device = 'cpu' , requires_grad= False)\n",
        "c = c.type(torch.double)\n",
        "c.device"
      ]
    },
    {
      "cell_type": "code",
      "execution_count": null,
      "metadata": {
        "colab": {
          "base_uri": "https://localhost:8080/"
        },
        "id": "XVXoPAdfv8UW",
        "outputId": "75825a5f-61ab-423b-c7bd-afc24a6d6da3"
      },
      "outputs": [
        {
          "data": {
            "text/plain": [
              "tensor([[0.0988, 0.2239, 0.3788],\n",
              "        [0.0070, 0.6105, 0.0460],\n",
              "        [0.5271, 0.0876, 0.0702]], dtype=torch.float64)"
            ]
          },
          "execution_count": 3,
          "metadata": {},
          "output_type": "execute_result"
        }
      ],
      "source": [
        "d = torch.rand(size = (3,3) , dtype = float , device ='cpu' , requires_grad = False)\n",
        "c*d"
      ]
    },
    {
      "cell_type": "code",
      "execution_count": null,
      "metadata": {
        "colab": {
          "base_uri": "https://localhost:8080/"
        },
        "id": "UEqz6LzuzfGV",
        "outputId": "0b4bf4d6-ba56-45e8-bf6f-a9c531cb28a1"
      },
      "outputs": [
        {
          "data": {
            "text/plain": [
              "tensor([-9, -8, -7])"
            ]
          },
          "execution_count": 12,
          "metadata": {},
          "output_type": "execute_result"
        }
      ],
      "source": [
        "tensor = torch.tensor([1,2,3])\n",
        "tensor - 10"
      ]
    },
    {
      "cell_type": "code",
      "execution_count": null,
      "metadata": {
        "colab": {
          "base_uri": "https://localhost:8080/"
        },
        "id": "TBdPbDilTmqC",
        "outputId": "e3e70be2-a438-4611-9e89-8a12bfbbca5c"
      },
      "outputs": [
        {
          "data": {
            "text/plain": [
              "tensor([0.1000, 0.2000, 0.3000])"
            ]
          },
          "execution_count": 16,
          "metadata": {},
          "output_type": "execute_result"
        }
      ],
      "source": [
        "torch.sub(tensor , 10)\n",
        "torch.add(tensor , 10)\n",
        "torch.mul(tensor , 10)\n",
        "torch.div(tensor , 10)"
      ]
    },
    {
      "cell_type": "code",
      "execution_count": null,
      "metadata": {
        "colab": {
          "base_uri": "https://localhost:8080/",
          "height": 176
        },
        "id": "-eTd83d3ULWG",
        "outputId": "defcdfe5-6d90-4965-f064-d94c959f21bd"
      },
      "outputs": [
        {
          "data": {
            "text/plain": [
              "torch.Size([3, 2, 6, 7])"
            ]
          },
          "execution_count": 2,
          "metadata": {},
          "output_type": "execute_result"
        }
      ],
      "source": [
        "tensor_1 = torch.rand(size = (3,2,6,4))\n",
        "tensor_2 = torch.rand(size = (3,2,4,7))\n",
        "torch.matmul(tensor_1 , tensor_2).shape"
      ]
    },
    {
      "cell_type": "code",
      "execution_count": null,
      "metadata": {
        "colab": {
          "base_uri": "https://localhost:8080/"
        },
        "id": "4rpA_TYsWlbf",
        "outputId": "9321ada7-b7e7-4525-8b30-9c0c0a2f3b77"
      },
      "outputs": [
        {
          "data": {
            "text/plain": [
              "torch.Size([1, 1])"
            ]
          },
          "execution_count": 47,
          "metadata": {},
          "output_type": "execute_result"
        }
      ],
      "source": [
        "tensor_3 = torch.tensor([1,2,3])\n",
        "torch.matmul(tensor_3 , tensor_3)\n",
        "torch.mm(torch.tensor([[1,2,3]]) , torch.tensor([[1],[2],[3]])).shape # this only takes matrices # better to use matmul"
      ]
    },
    {
      "cell_type": "code",
      "execution_count": null,
      "metadata": {
        "colab": {
          "base_uri": "https://localhost:8080/"
        },
        "id": "xhCFW_U3XsJY",
        "outputId": "6606d71c-edd5-4f1d-e865-cd4c17c6e74e"
      },
      "outputs": [
        {
          "name": "stdout",
          "output_type": "stream",
          "text": [
            "CPU times: user 4 µs, sys: 0 ns, total: 4 µs\n",
            "Wall time: 7.87 µs\n"
          ]
        },
        {
          "data": {
            "text/plain": [
              "3"
            ]
          },
          "execution_count": 34,
          "metadata": {},
          "output_type": "execute_result"
        }
      ],
      "source": [
        "%%time\n",
        "1+2"
      ]
    },
    {
      "cell_type": "code",
      "execution_count": null,
      "metadata": {
        "colab": {
          "base_uri": "https://localhost:8080/"
        },
        "id": "Zaik1zNNY4e0",
        "outputId": "930eb254-b220-425a-ba7b-a05b19afe0fb"
      },
      "outputs": [
        {
          "data": {
            "text/plain": [
              "tensor(14)"
            ]
          },
          "execution_count": 35,
          "metadata": {},
          "output_type": "execute_result"
        }
      ],
      "source": [
        "tensor_3 @ tensor_3 # another form of matmul"
      ]
    },
    {
      "cell_type": "code",
      "execution_count": null,
      "metadata": {
        "colab": {
          "base_uri": "https://localhost:8080/"
        },
        "id": "ynwKljgQZb7s",
        "outputId": "87cfb4cd-340f-446d-947b-03a8e07a432e"
      },
      "outputs": [
        {
          "data": {
            "text/plain": [
              "tensor([[[1],\n",
              "         [4]],\n",
              "\n",
              "        [[2],\n",
              "         [5]],\n",
              "\n",
              "        [[3],\n",
              "         [6]]])"
            ]
          },
          "execution_count": 63,
          "metadata": {},
          "output_type": "execute_result"
        }
      ],
      "source": [
        "torch.tensor([[[1,2,3],\n",
        "              [4,5,6]]]).T # transpose"
      ]
    },
    {
      "cell_type": "code",
      "execution_count": null,
      "metadata": {
        "colab": {
          "base_uri": "https://localhost:8080/"
        },
        "id": "udpeC1gHe2uY",
        "outputId": "b605ed6b-5feb-468b-baf9-c4167cbfe564"
      },
      "outputs": [
        {
          "data": {
            "text/plain": [
              "tensor(0)"
            ]
          },
          "execution_count": 88,
          "metadata": {},
          "output_type": "execute_result"
        }
      ],
      "source": [
        "a = torch.arange(0, 100 , 10)\n",
        "a = a.float()\n",
        "a.min()\n",
        "a.max()\n",
        "a.mean()\n",
        "a.sum()\n",
        "a.argmax() # gives the index of max\n",
        "a.argmin() # gives the index of min"
      ]
    },
    {
      "cell_type": "code",
      "execution_count": null,
      "metadata": {
        "colab": {
          "base_uri": "https://localhost:8080/"
        },
        "id": "3xHPSGZRjNeC",
        "outputId": "4b8a6bb0-91c7-4ccd-e2a9-c636316d8ee3"
      },
      "outputs": [
        {
          "output_type": "execute_result",
          "data": {
            "text/plain": [
              "tensor([[[0.8753, 0.0857, 0.4228]],\n",
              "\n",
              "        [[0.3054, 0.9728, 0.3526]],\n",
              "\n",
              "        [[0.0643, 0.9327, 0.9729]],\n",
              "\n",
              "        [[0.5019, 0.5722, 0.1492]],\n",
              "\n",
              "        [[0.5593, 0.4975, 0.2961]]])"
            ]
          },
          "metadata": {},
          "execution_count": 150
        }
      ],
      "source": [
        "b = torch.tensor([1,2,3,4])\n",
        "b.reshape(1,4)\n",
        "b.reshape(2,2)\n",
        "c = b.view(4,1) # its similar to reshape but i shares the same memory with the original tensor\n",
        "#c[0] = 5\n",
        "c ,  b # when i changed the viewport of b it changed b itself too because they share the same memory! :D\n",
        "torch.stack([b,b,b,b],dim=1) # 0 vertically and 1 horizontally idk about -1 and -2 :D\n",
        "torch.vstack([b,b,b,b]) # like dim 0\n",
        "torch.hstack([b,b,b,b]) # justt connects them horizonatlly not like dim 1\n",
        "d = torch.tensor([[1,2,3,4]])\n",
        "d.squeeze()# removes all 1 dimensions from the tensor\n",
        "d.unsqueeze(dim=2) # creates another 1 dimension in the index of size\n",
        "e = torch.rand(size=(1,2,3,4,1,6,34,1,5,1,1,17))\n",
        "e.squeeze().size()\n",
        "f = torch.rand(size=(1,3,5))\n",
        "f\n",
        "f.permute(2,0,1) # changes the size indexes it was 1 3 5 now its 5 1 3\n"
      ]
    },
    {
      "cell_type": "code",
      "execution_count": null,
      "metadata": {
        "id": "t_4BvyTkp3rS"
      },
      "outputs": [],
      "source": []
    }
  ],
  "metadata": {
    "colab": {
      "provenance": [],
      "toc_visible": true,
      "authorship_tag": "ABX9TyOoGzsjV3GIrDhZpL2LVtEU",
      "include_colab_link": true
    },
    "kernelspec": {
      "display_name": "Python 3",
      "name": "python3"
    },
    "language_info": {
      "codemirror_mode": {
        "name": "ipython",
        "version": 3
      },
      "file_extension": ".py",
      "mimetype": "text/x-python",
      "name": "python",
      "nbconvert_exporter": "python",
      "pygments_lexer": "ipython3",
      "version": "3.12.4"
    }
  },
  "nbformat": 4,
  "nbformat_minor": 0
}